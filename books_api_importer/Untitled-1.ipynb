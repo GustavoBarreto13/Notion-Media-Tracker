{
 "cells": [
  {
   "cell_type": "code",
   "execution_count": 6,
   "id": "d49911d5",
   "metadata": {},
   "outputs": [],
   "source": [
    "import json\n",
    "from urllib.parse import quote\n",
    "\n",
    "from notion_client import Client\n",
    "from urllib.parse import quote\n",
    "import pandas as pd\n",
    "import requests\n",
    "from config import DATABASE_ID, TOKEN_V3  # OMDB_API_KEY removido\n"
   ]
  },
  {
   "cell_type": "code",
   "execution_count": 45,
   "id": "77ef4a82",
   "metadata": {},
   "outputs": [],
   "source": [
    "with open('book_template.json', 'r', encoding='utf-8-sig') as file:\n",
    "    request = json.load(file)"
   ]
  },
  {
   "cell_type": "code",
   "execution_count": 46,
   "id": "f12ea2fb",
   "metadata": {},
   "outputs": [
    {
     "name": "stdout",
     "output_type": "stream",
     "text": [
      "Dados recebidos do Notion: {'object': 'page', 'id': '17ef090e-a3ca-8098-b253-ec15ea07446e', 'created_time': '2025-01-17T20:01:00.000Z', 'last_edited_time': '2025-02-04T22:00:00.000Z', 'created_by': {'object': 'user', 'id': 'f3ccd917-da98-46a7-aa81-0961ba32f196'}, 'last_edited_by': {'object': 'user', 'id': 'f3ccd917-da98-46a7-aa81-0961ba32f196'}, 'cover': {'type': 'external', 'external': {'url': 'https://m.media-amazon.com/images/I/71jrp43TCcL._AC_UF1000,1000_QL80_.jpg'}}, 'icon': {'type': 'external', 'external': {'url': 'https://www.notion.so/icons/book_blue.svg'}}, 'parent': {'type': 'database_id', 'database_id': '17ef090e-a3ca-8134-99e6-d777d26b9b88'}, 'archived': False, 'in_trash': False, 'properties': {'Name': {'id': 'title', 'type': 'title', 'title': [{'type': 'text', 'text': {'content': 'Pessoas Normais', 'link': None}, 'annotations': {'bold': False, 'italic': False, 'strikethrough': False, 'underline': False, 'code': False, 'color': 'default'}, 'plain_text': 'Intermezzo', 'href': None}]}, 'Author': {'id': 'ydsZ', 'type': 'rich_text', 'rich_text': [{'type': 'text', 'text': {'content': 'Sally Rooney', 'link': None}, 'annotations': {'bold': False, 'italic': False, 'strikethrough': False, 'underline': False, 'code': False, 'color': 'default'}, 'plain_text': 'Sally Rooney', 'href': None}]}}, 'url': 'https://www.notion.so/Pessoas-Normais-17ef090ea3ca8098b253ec15ea07446e', 'public_url': None, 'request_id': '1053d4c1-1be9-454d-8306-3682066d655d'}\n",
      "Título: Intermezzo\n",
      "Autor: Sally Rooney\n",
      "https://www.googleapis.com/books/v1/volumes?q=intitle:Intermezzo+inauthor:Sally%20Rooney&maxResults=1&langRestrict=pt\n",
      "https://covers.openlibrary.org/b/isbn/9780374602642-L.jpg\n",
      "Intermezzo atualizado no Notion.\n"
     ]
    },
    {
     "data": {
      "text/plain": [
       "({'status': 'success', 'message': 'Livro atualizado com sucesso!'}, 200)"
      ]
     },
     "execution_count": 46,
     "metadata": {},
     "output_type": "execute_result"
    }
   ],
   "source": [
    "def notionhook(request):\n",
    "    if request:\n",
    "        # Access the data sent by Notion\n",
    "        dados = request[0]['data']\n",
    "        print(\"Dados recebidos do Notion:\", dados)# Verifica se a estrutura dos dados está correta\n",
    "\n",
    "            # Extrai título\n",
    "        title = dados['properties']['Name']['title'][0]['plain_text']\n",
    "        print(f\"Título: {title}\")\n",
    "        \n",
    "        # Extrai autor, se existir\n",
    "        author = \"\"\n",
    "        if 'Author' in dados['properties']:\n",
    "            author = dados['properties']['Author']['rich_text'][0]['plain_text']\n",
    "            print(f\"Autor: {author}\")\n",
    "            \n",
    "        query = f\"intitle:{quote(title)}\"\n",
    "        if author:\n",
    "            query += f\"+inauthor:{quote(author)}\"\n",
    "\n",
    "        api_url = f\"https://www.googleapis.com/books/v1/volumes?q={query}&maxResults=1&langRestrict=pt\"\n",
    "        print(api_url)\n",
    "\n",
    "        try:\n",
    "            response = requests.get(api_url)\n",
    "            response.raise_for_status()\n",
    "            data = response.json()\n",
    "        except requests.exceptions.RequestException as e:\n",
    "            print(f\"Erro na Google Books API: {e}\")\n",
    "            return {\"status\": \"error\", \"message\": str(e)}, 500\n",
    "\n",
    "        if not data.get(\"items\"):\n",
    "            return {\"status\": \"error\", \"message\": \"Livro não encontrado\"}, 404\n",
    "\n",
    "        info = data[\"items\"][0].get(\"volumeInfo\", {})\n",
    "        \n",
    "        # Extrair informações\n",
    "        titulo = info.get(\"title\", title)\n",
    "        autores = info.get(\"authors\", [])\n",
    "        data_pub = info.get(\"publishedDate\", \"\")\n",
    "        descricao = info.get(\"description\", \"Sem descrição.\")\n",
    "        page_count = info.get(\"pageCount\", 0)\n",
    "        categorias = info.get(\"categories\", [])\n",
    "        isbn13 = next((id['identifier'] for id in info.get(\"industryIdentifiers\", []) if id['type'] == 'ISBN_13'), \"\")\n",
    "        isbn10 = next((id['identifier'] for id in info.get(\"industryIdentifiers\", []) if id['type'] == 'ISBN_10'), \"\")\n",
    "        capa = f\"https://covers.openlibrary.org/b/isbn/{isbn13}-L.jpg\"\n",
    "        print(capa)\n",
    "        try:\n",
    "            data_pub_formatada = pd.to_datetime(data_pub).strftime('%Y-%m-%d')\n",
    "        except:\n",
    "            data_pub_formatada = None\n",
    "            \n",
    "        try:\n",
    "            client = Client(auth=TOKEN_V3)\n",
    "            response = client.pages.update(\n",
    "                page_id=dados['id'],\n",
    "                properties={\n",
    "                    \"Name\": {\"title\": [{\"text\": {\"content\": titulo}}]},\n",
    "                    \"Publish Date\": {\"date\": {\"start\": data_pub_formatada}} if data_pub_formatada else {},\n",
    "                    # \"Categories\": {\"multi_select\": [{\"name\": cat.strip()} for cat in categorias]},\n",
    "                    \"Description\": {\"rich_text\": [{\"text\": {\"content\": descricao}}]},\n",
    "                    \"Image\": {\"url\": capa} if capa else {},\n",
    "                    \"Pages\": {\"number\": page_count} if page_count else {},\n",
    "                    \"ISBN-13\": {\"rich_text\": [{\"text\": {\"content\": isbn13}}]} if isbn13 else {},\n",
    "                    \"ISBN-10\": {\"rich_text\": [{\"text\": {\"content\": isbn10}}]} if isbn10 else {},\n",
    "                    \"Image\": {\"files\": [{\"name\": \"Image\", \"external\": {\"url\": capa}}]} if capa else {},\n",
    "                }\n",
    "            )\n",
    "            print(f\"{titulo} atualizado no Notion.\")\n",
    "        except Exception as e:\n",
    "            print(f\"Erro ao atualizar no Notion: {e}\")\n",
    "            return {\"status\": \"error\", \"message\": str(e)}, 500\n",
    "        return {\"status\": \"success\", \"message\": \"Livro atualizado com sucesso!\"}, 200\n",
    "    else:\n",
    "        return {\"status\": \"error\", \"message\": \"Requisição inválida: o corpo deve ser JSON\"}, 400\n",
    "\n",
    "notionhook(request)"
   ]
  }
 ],
 "metadata": {
  "kernelspec": {
   "display_name": "venv",
   "language": "python",
   "name": "python3"
  },
  "language_info": {
   "codemirror_mode": {
    "name": "ipython",
    "version": 3
   },
   "file_extension": ".py",
   "mimetype": "text/x-python",
   "name": "python",
   "nbconvert_exporter": "python",
   "pygments_lexer": "ipython3",
   "version": "3.12.3"
  }
 },
 "nbformat": 4,
 "nbformat_minor": 5
}
