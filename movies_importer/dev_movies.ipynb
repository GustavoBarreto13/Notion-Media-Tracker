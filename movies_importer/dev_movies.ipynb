{
 "cells": [
  {
   "cell_type": "code",
   "execution_count": 36,
   "id": "0820cec5",
   "metadata": {},
   "outputs": [],
   "source": [
    "import json\n",
    "from urllib.parse import quote\n",
    "\n",
    "import pandas as pd\n",
    "import requests\n",
    "import sys\n",
    "sys.path.append('..')\n",
    "from config import DATABASE_ID, OMDB_API_KEY, TOKEN_V3\n",
    "from notion_client import Client"
   ]
  },
  {
   "cell_type": "code",
   "execution_count": 66,
   "id": "4bd226ae",
   "metadata": {},
   "outputs": [],
   "source": [
    "with open('notion_moviedb_json_example.json', 'r', encoding='utf-8-sig') as file:\n",
    "    request = json.load(file)\n",
    "\n"
   ]
  },
  {
   "cell_type": "code",
   "execution_count": 67,
   "id": "b2d651d7",
   "metadata": {},
   "outputs": [
    {
     "name": "stdout",
     "output_type": "stream",
     "text": [
      "Dados recebidos do Notion: {'object': 'page', 'id': '227f090e-a3ca-8090-9c78-ebe9e9ff2368', 'created_time': '2025-07-05T23:50:00.000Z', 'last_edited_time': '2025-07-05T23:51:00.000Z', 'created_by': {'object': 'user', 'id': 'f3ccd917-da98-46a7-aa81-0961ba32f196'}, 'last_edited_by': {'object': 'user', 'id': 'f3ccd917-da98-46a7-aa81-0961ba32f196'}, 'cover': None, 'icon': None, 'parent': {'type': 'database_id', 'database_id': '18cf090e-a3ca-804a-9c9f-d33eb186973d'}, 'archived': False, 'in_trash': False, 'properties': {'Name': {'id': 'title', 'type': 'title', 'title': [{'type': 'text', 'text': {'content': 'KPop Demon Hunters', 'link': None}, 'annotations': {'bold': True, 'italic': False, 'strikethrough': False, 'underline': False, 'code': False, 'color': 'default'}, 'plain_text': 'KPop Demon Hunters', 'href': None}]}}, 'url': 'https://www.notion.so/KPop-Demon-Hunters-227f090ea3ca80909c78ebe9e9ff2368', 'public_url': None, 'request_id': '25770e8b-152c-4fcb-a615-11ea0f99a588'}\n",
      "Título do filme: KPop Demon Hunters\n",
      "Ano de Lançamento não encontrado, usando apenas o título.\n"
     ]
    }
   ],
   "source": [
    "def notionhook(request):\n",
    "    if request:\n",
    "        # Access the data sent by Notion\n",
    "        dados = request[0]['data']\n",
    "        print(\"Dados recebidos do Notion:\", dados)# Verifica se a estrutura dos dados está correta\n",
    "\n",
    "        if 'properties' not in dados or 'Name' not in dados['properties']:\n",
    "            print(\"Propriedade 'Name' não encontrada ou formato inválido.\")\n",
    "            return {\"status\": \"error\", \"message\": \"Propriedade 'Name' não encontrada ou formato inválido.\"}, 400\n",
    "\n",
    "        # Verifica se a estrutura dos dados está correta\n",
    "        if 'properties' not in dados:\n",
    "            print(\"Propriedades não encontradas nos dados.\")\n",
    "            return {\"status\": \"error\", \"message\": \"Propriedades não encontradas nos dados.\"}, 400\n",
    "\n",
    "        # Extrai o título da página\n",
    "        if 'Name' in dados['properties']:\n",
    "            title = dados['properties']['Name']['title'][0]['plain_text']\n",
    "            omdb_url = f\"http://www.omdbapi.com/?t={quote(title)}&apikey={OMDB_API_KEY}\"\n",
    "            print(f\"Título do filme: {title}\")\n",
    "        else:\n",
    "            print(\"Propriedade 'Name' não encontrada ou formato inválido.\")\n",
    "            return {\"status\": \"error\", \"message\": \"Propriedade 'Name' não encontrada ou formato inválido.\"}, 400\n",
    "\n",
    "        # Extrai o ano se existir\n",
    "        if 'Year' in dados['properties']:\n",
    "            year = dados['properties']['Year']['rich_text'][0]['plain_text']\n",
    "            omdb_url = f\"http://www.omdbapi.com/?t={quote(title)}&y={quote(year)}&apikey={OMDB_API_KEY}\"\n",
    "            print(f\"Ano de Lançamento: {year}\")\n",
    "        else:\n",
    "            year = None\n",
    "            print(\"Ano de Lançamento não encontrado, usando apenas o título.\")        \n",
    "\n",
    "notionhook(request)"
   ]
  }
 ],
 "metadata": {
  "kernelspec": {
   "display_name": "venv",
   "language": "python",
   "name": "python3"
  },
  "language_info": {
   "codemirror_mode": {
    "name": "ipython",
    "version": 3
   },
   "file_extension": ".py",
   "mimetype": "text/x-python",
   "name": "python",
   "nbconvert_exporter": "python",
   "pygments_lexer": "ipython3",
   "version": "3.12.3"
  }
 },
 "nbformat": 4,
 "nbformat_minor": 5
}
